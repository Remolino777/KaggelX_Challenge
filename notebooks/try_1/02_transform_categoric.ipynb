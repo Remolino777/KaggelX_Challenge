{
 "cells": [
  {
   "cell_type": "code",
   "execution_count": 33,
   "metadata": {},
   "outputs": [],
   "source": [
    "import pandas as pd\n",
    "from sklearn.preprocessing import LabelEncoder"
   ]
  },
  {
   "cell_type": "code",
   "execution_count": 34,
   "metadata": {},
   "outputs": [],
   "source": [
    "path = r'D:\\0_Respaldo\\0_Proyectos_2024\\ML_proyects\\KagelX\\KaggelX_Challenge\\data\\transform_data\\clean_data.parquet'"
   ]
  },
  {
   "cell_type": "code",
   "execution_count": 35,
   "metadata": {},
   "outputs": [],
   "source": [
    "data = pd.read_parquet(path)"
   ]
  },
  {
   "cell_type": "code",
   "execution_count": 36,
   "metadata": {},
   "outputs": [],
   "source": [
    "df =data.copy()"
   ]
  },
  {
   "cell_type": "code",
   "execution_count": 37,
   "metadata": {},
   "outputs": [
    {
     "data": {
      "text/html": [
       "<div>\n",
       "<style scoped>\n",
       "    .dataframe tbody tr th:only-of-type {\n",
       "        vertical-align: middle;\n",
       "    }\n",
       "\n",
       "    .dataframe tbody tr th {\n",
       "        vertical-align: top;\n",
       "    }\n",
       "\n",
       "    .dataframe thead th {\n",
       "        text-align: right;\n",
       "    }\n",
       "</style>\n",
       "<table border=\"1\" class=\"dataframe\">\n",
       "  <thead>\n",
       "    <tr style=\"text-align: right;\">\n",
       "      <th></th>\n",
       "      <th>brand</th>\n",
       "      <th>model_year</th>\n",
       "      <th>milage</th>\n",
       "      <th>fuel_type</th>\n",
       "      <th>engine</th>\n",
       "      <th>transmission</th>\n",
       "      <th>ext_col</th>\n",
       "      <th>int_col</th>\n",
       "      <th>accident</th>\n",
       "      <th>price</th>\n",
       "    </tr>\n",
       "  </thead>\n",
       "  <tbody>\n",
       "    <tr>\n",
       "      <th>0</th>\n",
       "      <td>Ford</td>\n",
       "      <td>2018</td>\n",
       "      <td>74349</td>\n",
       "      <td>Gasoline</td>\n",
       "      <td>375.0HP 3.5L V6 Cylinder Engine Gasoline Fuel</td>\n",
       "      <td>10-Speed A/T</td>\n",
       "      <td>Blue</td>\n",
       "      <td>Gray</td>\n",
       "      <td>None reported</td>\n",
       "      <td>11000</td>\n",
       "    </tr>\n",
       "    <tr>\n",
       "      <th>1</th>\n",
       "      <td>BMW</td>\n",
       "      <td>2007</td>\n",
       "      <td>80000</td>\n",
       "      <td>Gasoline</td>\n",
       "      <td>300.0HP 3.0L Straight 6 Cylinder Engine Gasoli...</td>\n",
       "      <td>6-Speed M/T</td>\n",
       "      <td>Black</td>\n",
       "      <td>Black</td>\n",
       "      <td>None reported</td>\n",
       "      <td>8250</td>\n",
       "    </tr>\n",
       "    <tr>\n",
       "      <th>2</th>\n",
       "      <td>Jaguar</td>\n",
       "      <td>2009</td>\n",
       "      <td>91491</td>\n",
       "      <td>Gasoline</td>\n",
       "      <td>300.0HP 4.2L 8 Cylinder Engine Gasoline Fuel</td>\n",
       "      <td>6-Speed A/T</td>\n",
       "      <td>Purple</td>\n",
       "      <td>Beige</td>\n",
       "      <td>None reported</td>\n",
       "      <td>15000</td>\n",
       "    </tr>\n",
       "  </tbody>\n",
       "</table>\n",
       "</div>"
      ],
      "text/plain": [
       "    brand  model_year  milage fuel_type  \\\n",
       "0    Ford        2018   74349  Gasoline   \n",
       "1     BMW        2007   80000  Gasoline   \n",
       "2  Jaguar        2009   91491  Gasoline   \n",
       "\n",
       "                                              engine  transmission ext_col  \\\n",
       "0      375.0HP 3.5L V6 Cylinder Engine Gasoline Fuel  10-Speed A/T    Blue   \n",
       "1  300.0HP 3.0L Straight 6 Cylinder Engine Gasoli...   6-Speed M/T   Black   \n",
       "2       300.0HP 4.2L 8 Cylinder Engine Gasoline Fuel   6-Speed A/T  Purple   \n",
       "\n",
       "  int_col       accident  price  \n",
       "0    Gray  None reported  11000  \n",
       "1   Black  None reported   8250  \n",
       "2   Beige  None reported  15000  "
      ]
     },
     "execution_count": 37,
     "metadata": {},
     "output_type": "execute_result"
    }
   ],
   "source": [
    "df.head(3)"
   ]
  },
  {
   "cell_type": "code",
   "execution_count": 38,
   "metadata": {},
   "outputs": [
    {
     "data": {
      "text/plain": [
       "brand          model_year  milage  fuel_type  engine                                         transmission                    ext_col                  int_col  accident                                price\n",
       "Mercedes-Benz  2014        80300   Gasoline   302.0HP 3.5L V6 Cylinder Engine Gasoline Fuel  7-Speed A/T                     White                    Beige    At least 1 accident or damage reported  22000    2\n",
       "               1993        40000   –          –                                              5-Speed M/T                     Gray                     Gray     None reported                           24000    1\n",
       "               2018        49000   Gasoline   362.0HP 3.0L V6 Cylinder Engine Gasoline Fuel  9-Speed A/T                     White                    Beige    None reported                           53000    1\n",
       "                           49273   Gasoline   208.0HP 2.0L 4 Cylinder Engine Gasoline Fuel   7-Speed A/T                     Blue                     Gray     None reported                           31000    1\n",
       "                           49083   Gasoline   4.0L V8 32V GDI DOHC Twin Turbo                9-Speed Automatic               Obsidian Black Metallic  Black    None reported                           29995    1\n",
       "                                                                                                                                                                                                               ..\n",
       "               2014        143250  Gasoline   463.0HP 4.0L 8 Cylinder Engine Gasoline Fuel   A/T                             White                    Beige    None reported                           5499     1\n",
       "                           138050  Gasoline   335.0HP 4.7L 8 Cylinder Engine Gasoline Fuel   7-Speed A/T                     Silver                   Black    None reported                           19000    1\n",
       "                           137000  Gasoline   302.0HP 3.5L V6 Cylinder Engine Gasoline Fuel  7-Speed A/T                     Black                    Black    None reported                           15000    1\n",
       "                           136000  Gasoline   208.0HP 2.0L 4 Cylinder Engine Gasoline Fuel   Transmission w/Dual Shift Mode  White                    Black    At least 1 accident or damage reported  12000    1\n",
       "               2023        28399   Gasoline   469.0HP 4.0L 8 Cylinder Engine Gasoline Fuel   9-Speed A/T                     Black                    Black    None reported                           56515    1\n",
       "Name: count, Length: 5086, dtype: int64"
      ]
     },
     "execution_count": 38,
     "metadata": {},
     "output_type": "execute_result"
    }
   ],
   "source": [
    "df[df['brand'] == 'Mercedes-Benz'].value_counts()"
   ]
  },
  {
   "cell_type": "markdown",
   "metadata": {},
   "source": [
    "### Transformation"
   ]
  },
  {
   "cell_type": "code",
   "execution_count": 39,
   "metadata": {},
   "outputs": [],
   "source": [
    "label_brand = LabelEncoder()\n",
    "label_fuel = LabelEncoder()\n",
    "label_engine = LabelEncoder()\n",
    "label_trans = LabelEncoder()\n",
    "label_ext_col = LabelEncoder()\n",
    "label_ext_int = LabelEncoder()\n",
    "label_accident = LabelEncoder()\n"
   ]
  },
  {
   "cell_type": "code",
   "execution_count": 40,
   "metadata": {},
   "outputs": [],
   "source": [
    "df['brand_t'] = label_brand.fit_transform(df['brand'])\n",
    "df['fuel_type_t'] = label_fuel.fit_transform(df['fuel_type'])\n",
    "df['engine_t'] = label_engine.fit_transform(df['engine'])\n",
    "df['transmission_t'] = label_trans.fit_transform(df['transmission'])\n",
    "df['ext_col_t'] = label_ext_col.fit_transform(df['ext_col'])\n",
    "df['int_col_t'] = label_ext_int.fit_transform(df['int_col'])\n",
    "df['accident_t'] = label_accident.fit_transform(df['accident'])"
   ]
  },
  {
   "cell_type": "code",
   "execution_count": 41,
   "metadata": {},
   "outputs": [
    {
     "name": "stdout",
     "output_type": "stream",
     "text": [
      "Clases aprendidas: ['Acura' 'Alfa' 'Aston' 'Audi' 'BMW' 'Bentley' 'Bugatti' 'Buick'\n",
      " 'Cadillac' 'Chevrolet' 'Chrysler' 'Dodge' 'FIAT' 'Ferrari' 'Ford' 'GMC'\n",
      " 'Genesis' 'Honda' 'Hummer' 'Hyundai' 'INFINITI' 'Jaguar' 'Jeep' 'Kia'\n",
      " 'Lamborghini' 'Land' 'Lexus' 'Lincoln' 'Lotus' 'Lucid' 'MINI' 'Maserati'\n",
      " 'Maybach' 'Mazda' 'McLaren' 'Mercedes-Benz' 'Mercury' 'Mitsubishi'\n",
      " 'Nissan' 'Plymouth' 'Pontiac' 'Porsche' 'RAM' 'Rivian' 'Rolls-Royce'\n",
      " 'Saturn' 'Scion' 'Subaru' 'Suzuki' 'Tesla' 'Toyota' 'Volkswagen' 'Volvo']\n",
      "Clases aprendidas: ['1.2L I3 12V GDI DOHC Turbo' '1.3L I3 12V GDI DOHC Turbo'\n",
      " '1.3L I3 12V MPFI DOHC Turbo' ... 'V6' 'V8' '–']\n"
     ]
    }
   ],
   "source": [
    "#Sanity check\n",
    "print('Clases aprendidas:', label_brand.classes_)\n",
    "print('Clases aprendidas:', label_engine.classes_)"
   ]
  },
  {
   "cell_type": "code",
   "execution_count": 42,
   "metadata": {},
   "outputs": [],
   "source": [
    "df1 = df.copy()"
   ]
  },
  {
   "cell_type": "code",
   "execution_count": 43,
   "metadata": {},
   "outputs": [],
   "source": [
    "del df1['brand']\n",
    "del df1['engine']\n",
    "del df1['transmission']\n",
    "del df1['ext_col']\n",
    "del df1['int_col']\n",
    "del df1['accident']\n",
    "del df1['fuel_type']\n"
   ]
  },
  {
   "cell_type": "code",
   "execution_count": 44,
   "metadata": {},
   "outputs": [
    {
     "data": {
      "text/html": [
       "<div>\n",
       "<style scoped>\n",
       "    .dataframe tbody tr th:only-of-type {\n",
       "        vertical-align: middle;\n",
       "    }\n",
       "\n",
       "    .dataframe tbody tr th {\n",
       "        vertical-align: top;\n",
       "    }\n",
       "\n",
       "    .dataframe thead th {\n",
       "        text-align: right;\n",
       "    }\n",
       "</style>\n",
       "<table border=\"1\" class=\"dataframe\">\n",
       "  <thead>\n",
       "    <tr style=\"text-align: right;\">\n",
       "      <th></th>\n",
       "      <th>model_year</th>\n",
       "      <th>milage</th>\n",
       "      <th>price</th>\n",
       "      <th>brand_t</th>\n",
       "      <th>fuel_type_t</th>\n",
       "      <th>engine_t</th>\n",
       "      <th>transmission_t</th>\n",
       "      <th>ext_col_t</th>\n",
       "      <th>int_col_t</th>\n",
       "      <th>accident_t</th>\n",
       "    </tr>\n",
       "  </thead>\n",
       "  <tbody>\n",
       "    <tr>\n",
       "      <th>0</th>\n",
       "      <td>2018</td>\n",
       "      <td>74349</td>\n",
       "      <td>11000</td>\n",
       "      <td>14</td>\n",
       "      <td>2</td>\n",
       "      <td>719</td>\n",
       "      <td>2</td>\n",
       "      <td>26</td>\n",
       "      <td>57</td>\n",
       "      <td>1</td>\n",
       "    </tr>\n",
       "    <tr>\n",
       "      <th>1</th>\n",
       "      <td>2007</td>\n",
       "      <td>80000</td>\n",
       "      <td>8250</td>\n",
       "      <td>4</td>\n",
       "      <td>2</td>\n",
       "      <td>534</td>\n",
       "      <td>18</td>\n",
       "      <td>17</td>\n",
       "      <td>9</td>\n",
       "      <td>1</td>\n",
       "    </tr>\n",
       "    <tr>\n",
       "      <th>2</th>\n",
       "      <td>2009</td>\n",
       "      <td>91491</td>\n",
       "      <td>15000</td>\n",
       "      <td>21</td>\n",
       "      <td>2</td>\n",
       "      <td>541</td>\n",
       "      <td>14</td>\n",
       "      <td>181</td>\n",
       "      <td>6</td>\n",
       "      <td>1</td>\n",
       "    </tr>\n",
       "    <tr>\n",
       "      <th>3</th>\n",
       "      <td>2022</td>\n",
       "      <td>2437</td>\n",
       "      <td>63500</td>\n",
       "      <td>4</td>\n",
       "      <td>3</td>\n",
       "      <td>646</td>\n",
       "      <td>43</td>\n",
       "      <td>100</td>\n",
       "      <td>24</td>\n",
       "      <td>1</td>\n",
       "    </tr>\n",
       "    <tr>\n",
       "      <th>4</th>\n",
       "      <td>2001</td>\n",
       "      <td>111000</td>\n",
       "      <td>7850</td>\n",
       "      <td>40</td>\n",
       "      <td>2</td>\n",
       "      <td>219</td>\n",
       "      <td>34</td>\n",
       "      <td>249</td>\n",
       "      <td>9</td>\n",
       "      <td>1</td>\n",
       "    </tr>\n",
       "  </tbody>\n",
       "</table>\n",
       "</div>"
      ],
      "text/plain": [
       "   model_year  milage  price  brand_t  fuel_type_t  engine_t  transmission_t  \\\n",
       "0        2018   74349  11000       14            2       719               2   \n",
       "1        2007   80000   8250        4            2       534              18   \n",
       "2        2009   91491  15000       21            2       541              14   \n",
       "3        2022    2437  63500        4            3       646              43   \n",
       "4        2001  111000   7850       40            2       219              34   \n",
       "\n",
       "   ext_col_t  int_col_t  accident_t  \n",
       "0         26         57           1  \n",
       "1         17          9           1  \n",
       "2        181          6           1  \n",
       "3        100         24           1  \n",
       "4        249          9           1  "
      ]
     },
     "execution_count": 44,
     "metadata": {},
     "output_type": "execute_result"
    }
   ],
   "source": [
    "df1.head(5)"
   ]
  },
  {
   "cell_type": "code",
   "execution_count": 45,
   "metadata": {},
   "outputs": [],
   "source": [
    "#Agregamos la columna +5000\n",
    "df1['no_5k_millas'] = df['milage'].apply(lambda x: 1 if x < 5000 else 0)"
   ]
  },
  {
   "cell_type": "code",
   "execution_count": 46,
   "metadata": {},
   "outputs": [
    {
     "data": {
      "text/html": [
       "<div>\n",
       "<style scoped>\n",
       "    .dataframe tbody tr th:only-of-type {\n",
       "        vertical-align: middle;\n",
       "    }\n",
       "\n",
       "    .dataframe tbody tr th {\n",
       "        vertical-align: top;\n",
       "    }\n",
       "\n",
       "    .dataframe thead th {\n",
       "        text-align: right;\n",
       "    }\n",
       "</style>\n",
       "<table border=\"1\" class=\"dataframe\">\n",
       "  <thead>\n",
       "    <tr style=\"text-align: right;\">\n",
       "      <th></th>\n",
       "      <th>model_year</th>\n",
       "      <th>milage</th>\n",
       "      <th>price</th>\n",
       "      <th>brand_t</th>\n",
       "      <th>fuel_type_t</th>\n",
       "      <th>engine_t</th>\n",
       "      <th>transmission_t</th>\n",
       "      <th>ext_col_t</th>\n",
       "      <th>int_col_t</th>\n",
       "      <th>accident_t</th>\n",
       "      <th>no_5k_millas</th>\n",
       "    </tr>\n",
       "  </thead>\n",
       "  <tbody>\n",
       "    <tr>\n",
       "      <th>0</th>\n",
       "      <td>2018</td>\n",
       "      <td>74349</td>\n",
       "      <td>11000</td>\n",
       "      <td>14</td>\n",
       "      <td>2</td>\n",
       "      <td>719</td>\n",
       "      <td>2</td>\n",
       "      <td>26</td>\n",
       "      <td>57</td>\n",
       "      <td>1</td>\n",
       "      <td>0</td>\n",
       "    </tr>\n",
       "    <tr>\n",
       "      <th>1</th>\n",
       "      <td>2007</td>\n",
       "      <td>80000</td>\n",
       "      <td>8250</td>\n",
       "      <td>4</td>\n",
       "      <td>2</td>\n",
       "      <td>534</td>\n",
       "      <td>18</td>\n",
       "      <td>17</td>\n",
       "      <td>9</td>\n",
       "      <td>1</td>\n",
       "      <td>0</td>\n",
       "    </tr>\n",
       "    <tr>\n",
       "      <th>2</th>\n",
       "      <td>2009</td>\n",
       "      <td>91491</td>\n",
       "      <td>15000</td>\n",
       "      <td>21</td>\n",
       "      <td>2</td>\n",
       "      <td>541</td>\n",
       "      <td>14</td>\n",
       "      <td>181</td>\n",
       "      <td>6</td>\n",
       "      <td>1</td>\n",
       "      <td>0</td>\n",
       "    </tr>\n",
       "    <tr>\n",
       "      <th>3</th>\n",
       "      <td>2022</td>\n",
       "      <td>2437</td>\n",
       "      <td>63500</td>\n",
       "      <td>4</td>\n",
       "      <td>3</td>\n",
       "      <td>646</td>\n",
       "      <td>43</td>\n",
       "      <td>100</td>\n",
       "      <td>24</td>\n",
       "      <td>1</td>\n",
       "      <td>1</td>\n",
       "    </tr>\n",
       "    <tr>\n",
       "      <th>4</th>\n",
       "      <td>2001</td>\n",
       "      <td>111000</td>\n",
       "      <td>7850</td>\n",
       "      <td>40</td>\n",
       "      <td>2</td>\n",
       "      <td>219</td>\n",
       "      <td>34</td>\n",
       "      <td>249</td>\n",
       "      <td>9</td>\n",
       "      <td>1</td>\n",
       "      <td>0</td>\n",
       "    </tr>\n",
       "  </tbody>\n",
       "</table>\n",
       "</div>"
      ],
      "text/plain": [
       "   model_year  milage  price  brand_t  fuel_type_t  engine_t  transmission_t  \\\n",
       "0        2018   74349  11000       14            2       719               2   \n",
       "1        2007   80000   8250        4            2       534              18   \n",
       "2        2009   91491  15000       21            2       541              14   \n",
       "3        2022    2437  63500        4            3       646              43   \n",
       "4        2001  111000   7850       40            2       219              34   \n",
       "\n",
       "   ext_col_t  int_col_t  accident_t  no_5k_millas  \n",
       "0         26         57           1             0  \n",
       "1         17          9           1             0  \n",
       "2        181          6           1             0  \n",
       "3        100         24           1             1  \n",
       "4        249          9           1             0  "
      ]
     },
     "execution_count": 46,
     "metadata": {},
     "output_type": "execute_result"
    }
   ],
   "source": [
    "df1.head(5)"
   ]
  },
  {
   "cell_type": "code",
   "execution_count": 47,
   "metadata": {},
   "outputs": [],
   "source": [
    "path = r'D:\\0_Respaldo\\0_Proyectos_2024\\ML_proyects\\KagelX\\KaggelX_Challenge\\data\\transform_data\\transform_data.parquet'"
   ]
  },
  {
   "cell_type": "code",
   "execution_count": 48,
   "metadata": {},
   "outputs": [],
   "source": [
    "df1.to_parquet(path)"
   ]
  },
  {
   "cell_type": "markdown",
   "metadata": {},
   "source": [
    "### Label encoder export\n",
    "Exporto el label encoder para utilizarlo despues en el modelo."
   ]
  },
  {
   "cell_type": "code",
   "execution_count": 49,
   "metadata": {},
   "outputs": [],
   "source": [
    "import joblib as jb"
   ]
  },
  {
   "cell_type": "code",
   "execution_count": 50,
   "metadata": {},
   "outputs": [
    {
     "data": {
      "text/plain": [
       "['D:\\\\0_Respaldo\\\\0_Proyectos_2024\\\\ML_proyects\\\\KagelX\\\\KaggelX_Challenge\\\\data\\\\transform_data\\\\label_engine.pkl']"
      ]
     },
     "execution_count": 50,
     "metadata": {},
     "output_type": "execute_result"
    }
   ],
   "source": [
    "path = r'D:\\0_Respaldo\\0_Proyectos_2024\\ML_proyects\\KagelX\\KaggelX_Challenge\\data\\transform_data\\label_engine.pkl'\n",
    "jb.dump(label_engine, path)"
   ]
  },
  {
   "cell_type": "code",
   "execution_count": 51,
   "metadata": {},
   "outputs": [
    {
     "data": {
      "text/plain": [
       "['D:\\\\0_Respaldo\\\\0_Proyectos_2024\\\\ML_proyects\\\\KagelX\\\\KaggelX_Challenge\\\\data\\\\transform_data\\\\label_ext_int.pkl']"
      ]
     },
     "execution_count": 51,
     "metadata": {},
     "output_type": "execute_result"
    }
   ],
   "source": [
    "path = r'D:\\0_Respaldo\\0_Proyectos_2024\\ML_proyects\\KagelX\\KaggelX_Challenge\\data\\transform_data\\label_ext_int.pkl'\n",
    "jb.dump(label_ext_int, path)"
   ]
  },
  {
   "cell_type": "code",
   "execution_count": 52,
   "metadata": {},
   "outputs": [
    {
     "data": {
      "text/plain": [
       "['D:\\\\0_Respaldo\\\\0_Proyectos_2024\\\\ML_proyects\\\\KagelX\\\\KaggelX_Challenge\\\\data\\\\transform_data\\\\label_accident.pkl']"
      ]
     },
     "execution_count": 52,
     "metadata": {},
     "output_type": "execute_result"
    }
   ],
   "source": [
    "path = r'D:\\0_Respaldo\\0_Proyectos_2024\\ML_proyects\\KagelX\\KaggelX_Challenge\\data\\transform_data\\label_accident.pkl'\n",
    "jb.dump(label_accident, path)"
   ]
  },
  {
   "cell_type": "code",
   "execution_count": 53,
   "metadata": {},
   "outputs": [
    {
     "data": {
      "text/plain": [
       "['D:\\\\0_Respaldo\\\\0_Proyectos_2024\\\\ML_proyects\\\\KagelX\\\\KaggelX_Challenge\\\\data\\\\transform_data\\\\label_brand.pkl']"
      ]
     },
     "execution_count": 53,
     "metadata": {},
     "output_type": "execute_result"
    }
   ],
   "source": [
    "path = r'D:\\0_Respaldo\\0_Proyectos_2024\\ML_proyects\\KagelX\\KaggelX_Challenge\\data\\transform_data\\label_brand.pkl'\n",
    "jb.dump(label_brand, path)"
   ]
  },
  {
   "cell_type": "code",
   "execution_count": 54,
   "metadata": {},
   "outputs": [
    {
     "data": {
      "text/plain": [
       "['D:\\\\0_Respaldo\\\\0_Proyectos_2024\\\\ML_proyects\\\\KagelX\\\\KaggelX_Challenge\\\\data\\\\transform_data\\\\label_ext_col.pkl']"
      ]
     },
     "execution_count": 54,
     "metadata": {},
     "output_type": "execute_result"
    }
   ],
   "source": [
    "path = r'D:\\0_Respaldo\\0_Proyectos_2024\\ML_proyects\\KagelX\\KaggelX_Challenge\\data\\transform_data\\label_ext_col.pkl'\n",
    "jb.dump(label_ext_col, path)"
   ]
  },
  {
   "cell_type": "code",
   "execution_count": 55,
   "metadata": {},
   "outputs": [
    {
     "data": {
      "text/plain": [
       "['D:\\\\0_Respaldo\\\\0_Proyectos_2024\\\\ML_proyects\\\\KagelX\\\\KaggelX_Challenge\\\\data\\\\transform_data\\\\label_fuel.pkl']"
      ]
     },
     "execution_count": 55,
     "metadata": {},
     "output_type": "execute_result"
    }
   ],
   "source": [
    "path = r'D:\\0_Respaldo\\0_Proyectos_2024\\ML_proyects\\KagelX\\KaggelX_Challenge\\data\\transform_data\\label_fuel.pkl'\n",
    "jb.dump(label_fuel, path)"
   ]
  },
  {
   "cell_type": "code",
   "execution_count": 56,
   "metadata": {},
   "outputs": [
    {
     "data": {
      "text/plain": [
       "['D:\\\\0_Respaldo\\\\0_Proyectos_2024\\\\ML_proyects\\\\KagelX\\\\KaggelX_Challenge\\\\data\\\\transform_data\\\\label_trans.pkl']"
      ]
     },
     "execution_count": 56,
     "metadata": {},
     "output_type": "execute_result"
    }
   ],
   "source": [
    "path = r'D:\\0_Respaldo\\0_Proyectos_2024\\ML_proyects\\KagelX\\KaggelX_Challenge\\data\\transform_data\\label_trans.pkl'\n",
    "jb.dump(label_trans, path)"
   ]
  }
 ],
 "metadata": {
  "kernelspec": {
   "display_name": ".venv",
   "language": "python",
   "name": "python3"
  },
  "language_info": {
   "codemirror_mode": {
    "name": "ipython",
    "version": 3
   },
   "file_extension": ".py",
   "mimetype": "text/x-python",
   "name": "python",
   "nbconvert_exporter": "python",
   "pygments_lexer": "ipython3",
   "version": "3.11.9"
  }
 },
 "nbformat": 4,
 "nbformat_minor": 2
}
